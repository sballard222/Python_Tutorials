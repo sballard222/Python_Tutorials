{
 "cells": [
  {
   "cell_type": "code",
   "execution_count": 11,
   "metadata": {},
   "outputs": [
    {
     "name": "stdout",
     "output_type": "stream",
     "text": [
      "2*x\n"
     ]
    }
   ],
   "source": [
    "#the easy way: use a library\n",
    "import sympy as sym\n",
    "x = sym.Symbol('x')\n",
    "dydx = sym.diff(x**2)# derivative of x^2\n",
    "print(dydx)"
   ]
  },
  {
   "cell_type": "code",
   "execution_count": 12,
   "metadata": {},
   "outputs": [
    {
     "data": {
      "text/plain": [
       "4"
      ]
     },
     "execution_count": 12,
     "metadata": {},
     "output_type": "execute_result"
    }
   ],
   "source": [
    "dydx.doit().subs({x:2})\n"
   ]
  },
  {
   "cell_type": "code",
   "execution_count": 27,
   "metadata": {},
   "outputs": [],
   "source": [
    "#the hard way: make a function from scratch to differentiate \n",
    "def derive(function, x):\n",
    "    # function to take a derivative \n",
    "    # inputs: function: to differentiate \n",
    "    #         value: x = ... \n",
    "    deltax = 0.00000000001 # change in x very close to 0,..\n",
    "    #.. cannot be 0 (computer can't divide by zero) so must be very small\n",
    "    deltay = function(x + deltax) - function(x) #change in y \n",
    "    slope = deltay/deltax # this is the derivative \n",
    "    # Returns the slope to the 6th decimal\n",
    "    return float(\"%.6f\" % slope)\n",
    "\n",
    "def f(x):\n",
    "    #returns specified function \n",
    "    return x ** 2 # in this case output is function x^2"
   ]
  },
  {
   "cell_type": "code",
   "execution_count": 28,
   "metadata": {},
   "outputs": [
    {
     "data": {
      "text/plain": [
       "4.0"
      ]
     },
     "execution_count": 28,
     "metadata": {},
     "output_type": "execute_result"
    }
   ],
   "source": [
    "\n",
    "derive(f,2)\n"
   ]
  },
  {
   "cell_type": "code",
   "execution_count": null,
   "metadata": {},
   "outputs": [],
   "source": []
  }
 ],
 "metadata": {
  "kernelspec": {
   "display_name": "Python 3",
   "language": "python",
   "name": "python3"
  },
  "language_info": {
   "codemirror_mode": {
    "name": "ipython",
    "version": 3
   },
   "file_extension": ".py",
   "mimetype": "text/x-python",
   "name": "python",
   "nbconvert_exporter": "python",
   "pygments_lexer": "ipython3",
   "version": "3.7.1"
  }
 },
 "nbformat": 4,
 "nbformat_minor": 2
}
